{
 "cells": [
  {
   "cell_type": "code",
   "execution_count": 1,
   "metadata": {},
   "outputs": [
    {
     "name": "stderr",
     "output_type": "stream",
     "text": [
      "Using TensorFlow backend.\n"
     ]
    }
   ],
   "source": [
    "import numpy as np\n",
    "import pandas as pd\n",
    "import tensorflow as tf\n",
    "import tensorflow.keras as keras\n",
    "from keras.models import *"
   ]
  },
  {
   "cell_type": "code",
   "execution_count": 2,
   "metadata": {},
   "outputs": [],
   "source": [
    "model = keras.models.load_model('sudoku.model')"
   ]
  },
  {
   "cell_type": "code",
   "execution_count": 3,
   "metadata": {},
   "outputs": [],
   "source": [
    "def norm(a):\n",
    "    \n",
    "    return (a/9)-.5\n",
    "\n",
    "def denorm(a):\n",
    "    \n",
    "    return (a+.5)*9"
   ]
  },
  {
   "cell_type": "code",
   "execution_count": 8,
   "metadata": {},
   "outputs": [],
   "source": [
    "def inference_sudoku(sample):\n",
    "    \n",
    "    feat = sample\n",
    "    \n",
    "    while(1):\n",
    "    \n",
    "        out = model.predict(feat.reshape((1,9,9,1)))\n",
    "        print(out.shape)\n",
    "#         print(f'out:{out}')\n",
    "        out = out.squeeze()\n",
    "#         print(f'out: {out}')\n",
    "\n",
    "        pred = np.argmax(out, axis=1).reshape((9,9))+1 \n",
    "        prob = np.around(np.max(out, axis=1).reshape((9,9)), 2)\n",
    "#         print(f'pred:{pred}, prob:{prob}')\n",
    "        \n",
    "        feat = denorm(feat).reshape((9,9))\n",
    "#         print(f'feat: {feat}')\n",
    "        mask = (feat==0)\n",
    "#         print(f'mask: {mask}')\n",
    "     \n",
    "        if(mask.sum()==0):\n",
    "            break\n",
    "            \n",
    "        prob_new = prob*mask\n",
    "#         print(f'prob_new : {prob_new}')\n",
    "    \n",
    "        ind = np.argmax(prob_new)\n",
    "#         print(f'ind: {ind}')\n",
    "        x, y = (ind//9), (ind%9)\n",
    "#         print(f'x:{x} y:{y}')\n",
    "\n",
    "        val = pred[x][y]\n",
    "        feat[x][y] = val\n",
    "        feat = norm(feat)\n",
    "    \n",
    "    return pred"
   ]
  },
  {
   "cell_type": "code",
   "execution_count": 9,
   "metadata": {},
   "outputs": [],
   "source": [
    "def solve_sudoku(game):\n",
    "    \n",
    "    game = game.replace('\\n', '')\n",
    "    game = game.replace(' ', '')\n",
    "    game = np.array([int(j) for j in game]).reshape((9,9,1))\n",
    "    game = norm(game)\n",
    "    game = game.reshape((1,9,9,1))\n",
    "#     out = model.predict(game)\n",
    "#     print(out.shape)\n",
    "#     print(out.squeeze().shape)\n",
    "#     out = out.squeeze()\n",
    "    game = inference_sudoku(game)\n",
    "    return game"
   ]
  },
  {
   "cell_type": "code",
   "execution_count": 10,
   "metadata": {
    "scrolled": true
   },
   "outputs": [
    {
     "name": "stdout",
     "output_type": "stream",
     "text": [
      "(1, 81, 9)\n",
      "(81, 9)\n",
      "(1, 81, 9)\n",
      "(81, 9)\n",
      "(1, 81, 9)\n",
      "(81, 9)\n",
      "(1, 81, 9)\n",
      "(81, 9)\n",
      "(1, 81, 9)\n",
      "(81, 9)\n",
      "(1, 81, 9)\n",
      "(81, 9)\n",
      "(1, 81, 9)\n",
      "(81, 9)\n",
      "(1, 81, 9)\n",
      "(81, 9)\n",
      "(1, 81, 9)\n",
      "(81, 9)\n",
      "(1, 81, 9)\n",
      "(81, 9)\n",
      "(1, 81, 9)\n",
      "(81, 9)\n",
      "(1, 81, 9)\n",
      "(81, 9)\n",
      "(1, 81, 9)\n",
      "(81, 9)\n",
      "(1, 81, 9)\n",
      "(81, 9)\n",
      "(1, 81, 9)\n",
      "(81, 9)\n",
      "(1, 81, 9)\n",
      "(81, 9)\n",
      "(1, 81, 9)\n",
      "(81, 9)\n",
      "(1, 81, 9)\n",
      "(81, 9)\n",
      "(1, 81, 9)\n",
      "(81, 9)\n",
      "(1, 81, 9)\n",
      "(81, 9)\n",
      "(1, 81, 9)\n",
      "(81, 9)\n",
      "(1, 81, 9)\n",
      "(81, 9)\n",
      "(1, 81, 9)\n",
      "(81, 9)\n",
      "(1, 81, 9)\n",
      "(81, 9)\n",
      "(1, 81, 9)\n",
      "(81, 9)\n",
      "(1, 81, 9)\n",
      "(81, 9)\n",
      "(1, 81, 9)\n",
      "(81, 9)\n",
      "(1, 81, 9)\n",
      "(81, 9)\n",
      "(1, 81, 9)\n",
      "(81, 9)\n",
      "(1, 81, 9)\n",
      "(81, 9)\n",
      "(1, 81, 9)\n",
      "(81, 9)\n",
      "(1, 81, 9)\n",
      "(81, 9)\n",
      "(1, 81, 9)\n",
      "(81, 9)\n",
      "(1, 81, 9)\n",
      "(81, 9)\n",
      "(1, 81, 9)\n",
      "(81, 9)\n",
      "(1, 81, 9)\n",
      "(81, 9)\n",
      "(1, 81, 9)\n",
      "(81, 9)\n",
      "(1, 81, 9)\n",
      "(81, 9)\n",
      "(1, 81, 9)\n",
      "(81, 9)\n",
      "(1, 81, 9)\n",
      "(81, 9)\n",
      "(1, 81, 9)\n",
      "(81, 9)\n",
      "(1, 81, 9)\n",
      "(81, 9)\n",
      "(1, 81, 9)\n",
      "(81, 9)\n",
      "(1, 81, 9)\n",
      "(81, 9)\n",
      "(1, 81, 9)\n",
      "(81, 9)\n",
      "(1, 81, 9)\n",
      "(81, 9)\n",
      "(1, 81, 9)\n",
      "(81, 9)\n",
      "(1, 81, 9)\n",
      "(81, 9)\n",
      "solved puzzle:\n",
      "\n",
      "[[4 8 9 5 3 2 7 6 1]\n",
      " [7 1 3 4 8 6 5 9 2]\n",
      " [5 6 2 9 1 7 8 3 4]\n",
      " [2 5 8 3 4 1 9 7 6]\n",
      " [6 3 1 7 5 9 2 4 8]\n",
      " [9 4 7 2 6 8 1 5 3]\n",
      " [1 2 5 6 7 3 4 8 9]\n",
      " [8 7 6 1 9 4 3 2 5]\n",
      " [3 9 4 8 2 5 6 1 7]]\n"
     ]
    }
   ],
   "source": [
    "game = '''\n",
    "          0 8 0 0 3 2 0 0 1\n",
    "          7 0 3 0 8 0 0 0 2\n",
    "          5 0 0 0 0 7 0 3 0\n",
    "          0 5 0 0 0 1 9 7 0\n",
    "          6 0 0 7 0 9 0 0 8\n",
    "          0 4 7 2 0 0 0 5 0\n",
    "          0 2 0 6 0 0 0 0 9\n",
    "          8 0 0 0 9 0 3 0 5\n",
    "          3 0 0 8 2 0 0 1 0\n",
    "      '''\n",
    "\n",
    "game = solve_sudoku(game)\n",
    "\n",
    "print('solved puzzle:\\n')\n",
    "print(game)"
   ]
  },
  {
   "cell_type": "code",
   "execution_count": 7,
   "metadata": {
    "scrolled": true
   },
   "outputs": [
    {
     "data": {
      "text/plain": [
       "array([45, 45, 45, 45, 45, 45, 45, 45, 45], dtype=int64)"
      ]
     },
     "execution_count": 7,
     "metadata": {},
     "output_type": "execute_result"
    }
   ],
   "source": [
    "np.sum(game, axis=1)"
   ]
  },
  {
   "cell_type": "code",
   "execution_count": null,
   "metadata": {},
   "outputs": [],
   "source": []
  }
 ],
 "metadata": {
  "kernelspec": {
   "display_name": "Python 3",
   "language": "python",
   "name": "python3"
  },
  "language_info": {
   "codemirror_mode": {
    "name": "ipython",
    "version": 3
   },
   "file_extension": ".py",
   "mimetype": "text/x-python",
   "name": "python",
   "nbconvert_exporter": "python",
   "pygments_lexer": "ipython3",
   "version": "3.7.2"
  }
 },
 "nbformat": 4,
 "nbformat_minor": 2
}
